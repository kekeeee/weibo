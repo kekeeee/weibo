{
 "cells": [
  {
   "cell_type": "markdown",
   "metadata": {
    "toc": "true"
   },
   "source": [
    "# Table of Contents\n",
    " <p><div class=\"lev2 toc-item\"><a href=\"#1主要步骤\" data-toc-modified-id=\"1主要步骤-01\"><span class=\"toc-item-num\">0.1&nbsp;&nbsp;</span>1主要步骤</a></div><div class=\"lev2 toc-item\"><a href=\"#2模拟微博登录\" data-toc-modified-id=\"2模拟微博登录-02\"><span class=\"toc-item-num\">0.2&nbsp;&nbsp;</span>2模拟微博登录</a></div><div class=\"lev2 toc-item\"><a href=\"#3获得并解析json内容\" data-toc-modified-id=\"3获得并解析json内容-03\"><span class=\"toc-item-num\">0.3&nbsp;&nbsp;</span>3获得并解析json内容</a></div><div class=\"lev2 toc-item\"><a href=\"#4爬取并存入mysql数据库\" data-toc-modified-id=\"4爬取并存入mysql数据库-04\"><span class=\"toc-item-num\">0.4&nbsp;&nbsp;</span>4爬取并存入mysql数据库</a></div>"
   ]
  },
  {
   "cell_type": "markdown",
   "metadata": {},
   "source": [
    "## 1主要步骤"
   ]
  },
  {
   "cell_type": "markdown",
   "metadata": {},
   "source": [
    "* 模拟微博登录\n",
    "* 解析json内容页\n",
    "* 将爬取内容存进mysql数据库"
   ]
  },
  {
   "cell_type": "markdown",
   "metadata": {},
   "source": [
    "## 2模拟微博登录"
   ]
  },
  {
   "cell_type": "code",
   "execution_count": 3,
   "metadata": {
    "collapsed": true
   },
   "outputs": [],
   "source": [
    "#python3.5相关包的导入\n",
    "from pandas import Series\n",
    "from pandas import DataFrame\n",
    "import requests\n",
    "import json\n",
    "import re\n",
    "import time as ti\n",
    "import MySQLdb \n",
    "import http.cookiejar as cookielib\n",
    "from pandas import to_datetime"
   ]
  },
  {
   "cell_type": "markdown",
   "metadata": {},
   "source": [
    "模拟微博登录请求的headers配置，首先要在chrome浏览器上登录移动端的微博http://m.weibo.cn   \n",
    "登录自己的账号密码，打开开发者工具，勾选Preserve log查看下面的header来自Network-->Name-->login--->Request Headers，如下图  \n",
    "![login图片](./相关图片/login页面.png)   \n",
    "从这里获得需要的Request Headers和Form Data的相关信息为模拟登录提供必要的信息\n"
   ]
  },
  {
   "cell_type": "code",
   "execution_count": 7,
   "metadata": {
    "collapsed": true
   },
   "outputs": [],
   "source": [
    "headers={\"Accept\":\"*/*\",\n",
    "         \"Accept-Encoding\":\"gzip, deflate, br\",\n",
    "         \"Accept-Language\":\"zh-CN,zh;q=0.8\",\n",
    "         \"Connection\":\"keep-alive\",\n",
    "         \"Content-Length\":\"294\",\n",
    "         \"Content-Type\":\"application/x-www-form-urlencoded\",\n",
    "         \"Cookie\":\"_T_WM=87bffde59b3a3d7afe90e24876aa6cd8\",\n",
    "         \"Host\":\"passport.weibo.cn\",\n",
    "         \"Origin\":\"https://passport.weibo.cn\",\n",
    "         \"Referer\":\"https://passport.weibo.cn/signin/login?entry=mweibo&res=wel&wm=3349&r=http%3A%2F%2Fm.weibo.cn%2F\",\n",
    "         \"User-Agent\":\"Mozilla/5.0 (Windows NT 6.1; WOW64) AppleWebKit/537.36 (KHTML, like Gecko) Chrome/54.0.2840.99 Safari/537.36\"\n",
    "\n",
    "         }\n",
    "\n",
    "fromData={\n",
    "          \"username\":\"账号\",\n",
    "          \"password\":\"密码\",\n",
    "          \"savestate\":\"1\",\n",
    "          \"r\":\"http://m.weibo.cn/\",\n",
    "          \"ec\":\"0\",\n",
    "          \"pagerefer\":\"https://passport.weibo.cn/signin/welcome?entry=mweibo&r=http%3A%2F%2Fm.weibo.cn%2F\",\n",
    "          \"entry\":\"mweibo\",\n",
    "          \"mainpageflag\":\"1\"\n",
    "        \n",
    "          }\n",
    "pageURL=\"https://passport.weibo.cn/sso/login\"\n",
    "session = requests.session()\n",
    "session.cookies = cookielib.LWPCookieJar(filename='cookies')\n",
    "login_page = session.post(pageURL, data=fromData, headers=headers)"
   ]
  },
  {
   "cell_type": "markdown",
   "metadata": {},
   "source": [
    "## 3获得并解析json内容"
   ]
  },
  {
   "cell_type": "markdown",
   "metadata": {},
   "source": [
    "点击刷新当前页面，找到json内容的url   \n",
    "![json1](./相关图片/json1.png)   \n",
    "打开该json的url获得用来翻看内容的next_cursor和page（默认值为1）   \n",
    "![json2](./相关图片/json2.png)   \n",
    "实际上这个json内容网页的整个url为 http://m.weibo.cn/feed/friends?version=v4&next_cursor=4096757350386351&page=1   \n",
    "下面为相关处理函数"
   ]
  },
  {
   "cell_type": "code",
   "execution_count": 8,
   "metadata": {
    "collapsed": true
   },
   "outputs": [],
   "source": [
    "#使发表时间按照统一的字符串格式输出\n",
    "def format_time(time_string):\n",
    "    ti_string=ti.strftime(\"%H:%M\",ti.localtime())\n",
    "    (hour,minute)=ti_string.split(':')\n",
    "    hour=int(hour)\n",
    "    minute=int(minute)\n",
    "    if '分钟前' in time_string:\n",
    "        result = re.findall(r\"[0-9]\",time_string)\n",
    "        l=len(result)\n",
    "        if l==1:\n",
    "            diff=int(result[0])\n",
    "            if minute>=diff:\n",
    "                new_minute=minute-diff\n",
    "                return(ti.strftime(\"%m-%d \",ti.localtime())+str(hour)+':'+str(new_minute))                                                                     \n",
    "            else:\n",
    "                new_hour=hour-1\n",
    "                new_minute=60+minute-diff\n",
    "                return(ti.strftime(\"%m-%d \",ti.localtime())+str(new_hour)+':'+str(new_minute))\n",
    "        else:\n",
    "            diff=str(result[0])+str(result[1])\n",
    "            diff=int(diff)\n",
    "            if minute>=diff:\n",
    "                new_minute=minute-diff\n",
    "                return(ti.strftime(\"%m-%d \",ti.localtime())+str(hour)+':'+str(new_minute))                                                                     \n",
    "            else:\n",
    "                new_hour=hour-1\n",
    "                new_minute=60+minute-diff\n",
    "                return(ti.strftime(\"%m-%d \",ti.localtime())+str(new_hour)+':'+str(new_minute))\n",
    "    elif  '今天' in time_string:\n",
    "        return(time_string.replace('今天',ti.strftime(\"%m-%d\",ti.localtime(ti.time()))))\n",
    "    else:\n",
    "        return(time_string) \n",
    "        \n",
    "#微博发表的时间段\n",
    "def get_hour(time_string):\n",
    "    f_date=to_datetime('2017-'+time_string,format='%Y-%m-%d %H:%M')\n",
    "    hour_num=f_date.hour\n",
    "    return(hour_num)\n",
    "\n",
    "#获得某个数据库的某个数据表当前的记录数，返回值为int类型\n",
    "def get_records_num(conn,table_name):\n",
    "    cursor=conn.cursor()\n",
    "    sql=(\"\"\"SELECT count(*) FROM  %s\"\"\"%(table_name))\n",
    "    cursor.execute(sql)\n",
    "    records_num=cursor.fetchone()[0]\n",
    "    return(records_num)     \n",
    "\n",
    "#拼接demo_page的url\n",
    "def joinURL(now_cursor,pageNum):\n",
    "    demo_pageURL=\"http://m.weibo.cn/feed/friends?version=v4&next_cursor=\"+str(now_cursor)+\"&page=\"+str(pageNum)\n",
    "    return(demo_pageURL)\n",
    "    \n",
    "#获取某页的card的内容，并格式化为dataframe\n",
    "def get_card_group(pageNum,jsonObject,conn,table_name):\n",
    "    record_count=get_records_num(conn,table_name)\n",
    "    data=DataFrame(columns=['record_count','hourNum','pageNum','userID','nickName','user_description','user_fansNum','time','content','reposts_count'])\n",
    "    counts=len(jsonObject[0]['card_group'])\n",
    "    for each_count in range(0,counts):\n",
    "        record_count=record_count+1\n",
    "        id=str(jsonObject[0]['card_group'][each_count]['mblog']['id'])\n",
    "        time=format_time(jsonObject[0]['card_group'][each_count]['mblog']['created_at'])\n",
    "        hour_num=get_hour(time)\n",
    "        screen_name=jsonObject[0]['card_group'][each_count]['mblog']['user']        ['screen_name']\n",
    "        description=jsonObject[0]['card_group'][each_count]['mblog']['user']['description']\n",
    "        fansNum=jsonObject[0]['card_group'][each_count]['mblog']['user']['follow_count']\n",
    "        reposts_count=str(jsonObject[0]['card_group'][each_count]['mblog']['reposts_count'])\n",
    "        if 'retweeted_status' in str(jsonObject[0]['card_group'][each_count]['mblog']):\n",
    "            content=str(jsonObject[0]['card_group'][each_count]['mblog']['text'])+'---转发自---'+str(jsonObject[0]['card_group'][each_count]['mblog']['retweeted_status']['text'])\n",
    "        else:\n",
    "            content=str(jsonObject[0]['card_group'][each_count]['mblog']['text'])\n",
    "    \n",
    "        data=data.append(\n",
    "                             Series(\n",
    "                [record_count,hour_num,pageNum,id,screen_name,description,fansNum,time,content,reposts_count], \n",
    "                index=['record_count','hourNum','pageNum','userID','nickName','user_description','user_fansNum','time','content','reposts_count']\n",
    "            ), ignore_index=True\n",
    "                                    )\n",
    "    return(data)"
   ]
  },
  {
   "cell_type": "markdown",
   "metadata": {},
   "source": [
    "## 4爬取并存入mysql数据库"
   ]
  },
  {
   "cell_type": "code",
   "execution_count": 9,
   "metadata": {
    "collapsed": true
   },
   "outputs": [],
   "source": [
    "#建立和数据库的连接\n",
    "conn = MySQLdb.connect(\n",
    "            host='127.0.0.1',\n",
    "            user='root',\n",
    "            passwd='admin',\n",
    "            port=3306,\n",
    "            db='weibo',\n",
    "            charset='utf8'\n",
    "        )"
   ]
  },
  {
   "cell_type": "code",
   "execution_count": 10,
   "metadata": {
    "collapsed": false
   },
   "outputs": [
    {
     "name": "stderr",
     "output_type": "stream",
     "text": [
      "D:\\Anaconda3\\AZ\\lib\\site-packages\\pandas\\core\\generic.py:1165: FutureWarning: The 'mysql' flavor with DBAPI connection is deprecated and will be removed in future versions. MySQL will be further supported with SQLAlchemy connectables.\n",
      "  chunksize=chunksize, dtype=dtype)\n",
      "D:\\Anaconda3\\AZ\\lib\\site-packages\\pandas\\io\\sql.py:1445: Warning: Incorrect string value: '\\xF0\\x9F\\x99\\x8F--...' for column 'content' at row 6\n",
      "  conn.executemany(self.insert_statement(), data_list)\n"
     ]
    },
    {
     "name": "stdout",
     "output_type": "stream",
     "text": [
      "*********************第1页的微博已存入数据库***********************\n",
      "*********************第2页的微博已存入数据库***********************\n"
     ]
    }
   ],
   "source": [
    "total_page=2\n",
    "now_cursor=4096757350386351\n",
    "for pageNum in range(1,total_page+1):\n",
    "    demo_page = session.get(joinURL(now_cursor,pageNum))  \n",
    "    jsonString =demo_page.text \n",
    "    jsonObject = json.loads(jsonString)\n",
    "    df=get_card_group(pageNum,jsonObject,conn,'demo') \n",
    "    df.to_sql(name='demo', con=conn, flavor='mysql', if_exists='append', index=False)\n",
    "    ti.sleep(2)\n",
    "    print('*********************第'+str(pageNum)+'页的微博已存入数据库***********************')\n",
    "    if jsonObject[0]['next_cursor']==0:\n",
    "        print('end with pageNum='+str(pageNum-1))\n",
    "        break"
   ]
  },
  {
   "cell_type": "code",
   "execution_count": 14,
   "metadata": {
    "collapsed": false
   },
   "outputs": [
    {
     "data": {
      "text/html": [
       "<div>\n",
       "<table border=\"1\" class=\"dataframe\">\n",
       "  <thead>\n",
       "    <tr style=\"text-align: right;\">\n",
       "      <th></th>\n",
       "      <th>record_count</th>\n",
       "      <th>hourNum</th>\n",
       "      <th>pageNum</th>\n",
       "      <th>userID</th>\n",
       "      <th>nickName</th>\n",
       "      <th>user_description</th>\n",
       "      <th>user_fansNum</th>\n",
       "      <th>time</th>\n",
       "      <th>content</th>\n",
       "      <th>reposts_count</th>\n",
       "    </tr>\n",
       "  </thead>\n",
       "  <tbody>\n",
       "    <tr>\n",
       "      <th>0</th>\n",
       "      <td>675.0</td>\n",
       "      <td>8.0</td>\n",
       "      <td>2.0</td>\n",
       "      <td>4096706754650692</td>\n",
       "      <td>我们爱看买家秀</td>\n",
       "      <td>只为传递快乐！欢迎投稿&amp;amp;吐槽</td>\n",
       "      <td>54.0</td>\n",
       "      <td>04-15 08:01</td>\n",
       "      <td>王者荣耀手办，我是拒绝的&lt;span class=\"iconimg iconimg-xs\"&gt;&lt;...</td>\n",
       "      <td>513</td>\n",
       "    </tr>\n",
       "    <tr>\n",
       "      <th>1</th>\n",
       "      <td>676.0</td>\n",
       "      <td>8.0</td>\n",
       "      <td>2.0</td>\n",
       "      <td>4096706595272234</td>\n",
       "      <td>中国青年报</td>\n",
       "      <td>历史的一份底稿。（中国青年报官方网站中青在线 www.cyol.com 微信公众账号：zqb...</td>\n",
       "      <td>1391.0</td>\n",
       "      <td>04-15 08:00</td>\n",
       "      <td>【“天价彩礼”的苦 国外男青年也懂】“天价”让彩礼变了味儿，本该喜庆的事情成了一桩讨价还价的...</td>\n",
       "      <td>17</td>\n",
       "    </tr>\n",
       "  </tbody>\n",
       "</table>\n",
       "</div>"
      ],
      "text/plain": [
       "   record_count  hourNum  pageNum            userID nickName  \\\n",
       "0         675.0      8.0      2.0  4096706754650692  我们爱看买家秀   \n",
       "1         676.0      8.0      2.0  4096706595272234    中国青年报   \n",
       "\n",
       "                                    user_description  user_fansNum  \\\n",
       "0                                 只为传递快乐！欢迎投稿&amp;吐槽          54.0   \n",
       "1  历史的一份底稿。（中国青年报官方网站中青在线 www.cyol.com 微信公众账号：zqb...        1391.0   \n",
       "\n",
       "          time                                            content  \\\n",
       "0  04-15 08:01  王者荣耀手办，我是拒绝的<span class=\"iconimg iconimg-xs\"><...   \n",
       "1  04-15 08:00  【“天价彩礼”的苦 国外男青年也懂】“天价”让彩礼变了味儿，本该喜庆的事情成了一桩讨价还价的...   \n",
       "\n",
       "  reposts_count  \n",
       "0           513  \n",
       "1            17  "
      ]
     },
     "execution_count": 14,
     "metadata": {},
     "output_type": "execute_result"
    }
   ],
   "source": [
    "#DataFrame的内容为\n",
    "df.head(2)"
   ]
  },
  {
   "cell_type": "markdown",
   "metadata": {},
   "source": [
    "mysql数据库中，用可视化工具Navicat看到   \n",
    "![mysql数据表](./相关图片/mysql数据表.png)"
   ]
  },
  {
   "cell_type": "markdown",
   "metadata": {},
   "source": [
    "p1.py为代码   \n",
    "转载请注明出处，谢谢！ "
   ]
  },
  {
   "cell_type": "code",
   "execution_count": null,
   "metadata": {
    "collapsed": true
   },
   "outputs": [],
   "source": []
  }
 ],
 "metadata": {
  "anaconda-cloud": {},
  "kernelspec": {
   "display_name": "Python [default]",
   "language": "python",
   "name": "python3"
  },
  "language_info": {
   "codemirror_mode": {
    "name": "ipython",
    "version": 3
   },
   "file_extension": ".py",
   "mimetype": "text/x-python",
   "name": "python",
   "nbconvert_exporter": "python",
   "pygments_lexer": "ipython3",
   "version": "3.5.2"
  },
  "toc": {
   "colors": {
    "hover_highlight": "#DAA520",
    "running_highlight": "#FF0000",
    "selected_highlight": "#FFD700"
   },
   "moveMenuLeft": true,
   "nav_menu": {
    "height": "84px",
    "width": "252px"
   },
   "navigate_menu": true,
   "number_sections": false,
   "sideBar": true,
   "threshold": 4,
   "toc_cell": true,
   "toc_position": {
    "height": "532px",
    "left": "0px",
    "right": "1154px",
    "top": "106px",
    "width": "212px"
   },
   "toc_section_display": "block",
   "toc_window_display": false,
   "widenNotebook": false
  }
 },
 "nbformat": 4,
 "nbformat_minor": 1
}
